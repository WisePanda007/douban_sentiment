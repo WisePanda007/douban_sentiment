{
 "cells": [
  {
   "cell_type": "code",
   "execution_count": 7,
   "metadata": {},
   "outputs": [
    {
     "name": "stdout",
     "output_type": "stream",
     "text": [
      "{'User-Agent': 'Mozilla/5.0 (Windows NT 10.0; Win64; x64) AppleWebKit/537.36 (KHTML, like Gecko) Chrome/59.0.3071.104 Safari/537.36'}\n",
      "{'https': '119.102.25.64:9999'}\n"
     ]
    }
   ],
   "source": [
    "import random\n",
    "def get_headers():\n",
    "    with open('user_agent.txt','r') as f:\n",
    "        users=f.readlines()\n",
    "        users=[i.rstrip('\\n') for i in users]\n",
    "    return{'User-Agent':random.choice(users)}\n",
    "def get_proxies():\n",
    "    with open('douban_https.txt','r') as f:\n",
    "        https=f.readlines()\n",
    "        https=[i.rstrip('\\n') for i in https]\n",
    "    return{'https':random.choice(https)}\n",
    "print(get_headers())\n",
    "print(get_proxies())"
   ]
  },
  {
   "cell_type": "code",
   "execution_count": null,
   "metadata": {},
   "outputs": [
    {
     "name": "stdout",
     "output_type": "stream",
     "text": [
      "https://movie.douban.com/j/new_search_subjects?sort=T&range=0,10&tags=%E7%94%B5%E5%BD%B1&start=0\n",
      "暂停手动输入d\n",
      "https://movie.douban.com/j/new_search_subjects?sort=T&range=0,10&tags=%E7%94%B5%E5%BD%B1&start=0\n"
     ]
    }
   ],
   "source": [
    "import requests\n",
    "from lxml import etree\n",
    "import re\n",
    "import pymongo\n",
    "import time\n",
    "from random import randint\n",
    "from multiprocessing import Pool\n",
    "\n",
    "client=pymongo.MongoClient('localhost',27017)#连接数据库\n",
    "douban=client['douban']#创建新数据库\n",
    "movie_items=douban['movie_items']#创建数据集合\n",
    "insert_num=0\n",
    "\n",
    "\n",
    "def get_movie_url(url):#获取每部电影的链接\n",
    "    html=requests.get(url,headers=get_headers(),proxies=get_proxies())\n",
    "    ids=re.findall(r'\"id\":\"(\\d*)\"',html.text)\n",
    "    movie_hrefs=['https://movie.douban.com/subject/'+i+'/' for i in ids]\n",
    "    \n",
    "    #验证码手动输入\n",
    "    if movie_hrefs==[]:\n",
    "        print(url)\n",
    "        input('暂停手动输入')\n",
    "        get_movie_url(url)\n",
    "    for movie_href in movie_hrefs:\n",
    "        get_movie_info(movie_href)\n",
    "        \n",
    "def get_movie_info(url):#获取电影详细信息\n",
    "    html=requests.get(url,headers=get_headers(),proxies=get_proxies())\n",
    "    response=etree.HTML(html.text)\n",
    "    \n",
    "    #验证码手动输入\n",
    "    if not response.xpath('.//h1/span[@property=\"v:itemreviewed\"]/text()'):\n",
    "        print(url)\n",
    "        input('暂停手动输入')\n",
    "        get_movie_info(url)\n",
    "        pass\n",
    "    \n",
    "    movie_item = {}\n",
    "    try:\n",
    "        # 电影链接与ID\n",
    "        movie_item['url']=url\n",
    "        movie_item['id']=url.split('/')[-2]\n",
    "        # 电影名\n",
    "        movie_item['title'] = response.xpath('.//h1/span[@property=\"v:itemreviewed\"]/text()')[0].strip()\n",
    "        # 上映时间\n",
    "        release_date=response.xpath('.//span[@property=\"v:initialReleaseDate\"]/text()')\n",
    "        movie_item['release_date'] = release_date\n",
    "        # 导演\n",
    "        movie_item['director'] = response.xpath('.//a[@rel=\"v:directedBy\"]/text()')[0].strip()\n",
    "        # 电影主演\n",
    "        stars= response.xpath('.//a[@rel=\"v:starring\"]/text()')\n",
    "        movie_item['stars']=stars\n",
    "        # 电影类别\n",
    "        genre=response.xpath('.//span[@property=\"v:genre\"]/text()')\n",
    "        movie_item['genre'] =genre\n",
    "#         # 电影时长\n",
    "#         movie_item['time'] = response.xpath('.//span[@property=\"v:runtime\"]/text()')[0].strip()\n",
    "        # 电影的评分\n",
    "        movie_item['rating_num'] = response.xpath('.//strong[@class=\"ll rating_num\"]/text()')[0].strip()\n",
    "        # 评分的人数\n",
    "        movie_item['vote_num'] = response.xpath('.//span[@property=\"v:votes\"]/text()')[0].strip()\n",
    "        # 电影1-5星的百分比\n",
    "        movie_item['rating_stars1'] = response.xpath('.//span[@class=\"rating_per\"]/text()')[4].strip()\n",
    "        movie_item['rating_stars2'] = response.xpath('.//span[@class=\"rating_per\"]/text()')[3].strip()\n",
    "        movie_item['rating_stars3'] = response.xpath('.//span[@class=\"rating_per\"]/text()')[2].strip()\n",
    "        movie_item['rating_stars4'] = response.xpath('.//span[@class=\"rating_per\"]/text()')[1].strip()\n",
    "        movie_item['rating_stars5'] = response.xpath('.//span[@class=\"rating_per\"]/text()')[0].strip() \n",
    "        # 电影的短评数\n",
    "        movie_item['comment_num'] = response.xpath('.//div[@class=\"mod-hd\"]/h2/span/a/text()')[0].strip()\n",
    "        global insert_num\n",
    "        insert_num+=1\n",
    "        print('第',insert_num,'次插入数据')\n",
    "        print(movie_item)\n",
    "        movie_items.insert_one(movie_item)#插入数据\n",
    "    except IndexError:\n",
    "        print(url,':发生IndexError')\n",
    "        pass\n",
    "    \n",
    "if __name__=='__main__':\n",
    "    urls=['https://movie.douban.com/j/new_search_subjects?sort=T&range=0,10&tags=%E7%94%B5%E5%BD%B1&start={}'.format(x) for x in range(0,500,20)]\n",
    "    pool = Pool(4)  # 创建进程池\n",
    "    for url in urls:\n",
    "        pool.apply_async(get_movie_url(url))\n",
    "    pool.close()\n",
    "    pool.join()"
   ]
  }
 ],
 "metadata": {
  "kernelspec": {
   "display_name": "Python 3",
   "language": "python",
   "name": "python3"
  },
  "language_info": {
   "codemirror_mode": {
    "name": "ipython",
    "version": 3
   },
   "file_extension": ".py",
   "mimetype": "text/x-python",
   "name": "python",
   "nbconvert_exporter": "python",
   "pygments_lexer": "ipython3",
   "version": "3.7.0"
  }
 },
 "nbformat": 4,
 "nbformat_minor": 2
}
