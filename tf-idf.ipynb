{
 "cells": [
  {
   "cell_type": "code",
   "execution_count": 1,
   "metadata": {
    "scrolled": true
   },
   "outputs": [],
   "source": [
    "import numpy as np\n",
    "import pandas as pd\n",
    "import pymongo\n",
    "import tensorflow as tf"
   ]
  },
  {
   "cell_type": "code",
   "execution_count": 2,
   "metadata": {},
   "outputs": [],
   "source": [
    "#从数据库中读取数据\n",
    "client=pymongo.MongoClient('localhost',27017)#连接数据库\n",
    "db1=client['douban']#创建新数据库\n",
    "pred_comments=db1['pred_comments']\n",
    "data = pd.DataFrame(list(pred_comments.find()))"
   ]
  },
  {
   "cell_type": "code",
   "execution_count": 3,
   "metadata": {
    "scrolled": true
   },
   "outputs": [
    {
     "data": {
      "text/html": [
       "<div>\n",
       "<style scoped>\n",
       "    .dataframe tbody tr th:only-of-type {\n",
       "        vertical-align: middle;\n",
       "    }\n",
       "\n",
       "    .dataframe tbody tr th {\n",
       "        vertical-align: top;\n",
       "    }\n",
       "\n",
       "    .dataframe thead th {\n",
       "        text-align: right;\n",
       "    }\n",
       "</style>\n",
       "<table border=\"1\" class=\"dataframe\">\n",
       "  <thead>\n",
       "    <tr style=\"text-align: right;\">\n",
       "      <th></th>\n",
       "      <th>_id</th>\n",
       "      <th>content</th>\n",
       "      <th>processed_comment</th>\n",
       "      <th>star</th>\n",
       "      <th>word_vec</th>\n",
       "      <th>pos1neg0</th>\n",
       "      <th>seq_length</th>\n",
       "    </tr>\n",
       "  </thead>\n",
       "  <tbody>\n",
       "    <tr>\n",
       "      <th>0</th>\n",
       "      <td>5cdbd2cda1cf18259c85b40e</td>\n",
       "      <td>当然算不上杰作，但放豆瓣语境下，是部时至今日终于拍出来的国产“高分韩国电影”。拿现实题材拍商...</td>\n",
       "      <td>[算不上, 杰作, 但放, 豆瓣, 语境, 时至今日, 终于, 国产, 高分, 韩国, 电影...</td>\n",
       "      <td>4</td>\n",
       "      <td>[[0.192524, -0.185849, 0.275798, 0.053039, 0.5...</td>\n",
       "      <td>1</td>\n",
       "      <td>27</td>\n",
       "    </tr>\n",
       "    <tr>\n",
       "      <th>1</th>\n",
       "      <td>5cdbd2cda1cf18259c85b40f</td>\n",
       "      <td>最大的病，其实是穷病。真的被感动了，整体都很成熟，也有些许韩片的影子。几个演员表演都非常出色...</td>\n",
       "      <td>[最大, 其实, 穷病, 真的, 感动, 整体, 成熟, 些许, 韩片, 影子, 几个, 演...</td>\n",
       "      <td>4</td>\n",
       "      <td>[[-0.026906, 0.003273, 0.084483, 0.253033, 0.0...</td>\n",
       "      <td>1</td>\n",
       "      <td>30</td>\n",
       "    </tr>\n",
       "  </tbody>\n",
       "</table>\n",
       "</div>"
      ],
      "text/plain": [
       "                        _id  \\\n",
       "0  5cdbd2cda1cf18259c85b40e   \n",
       "1  5cdbd2cda1cf18259c85b40f   \n",
       "\n",
       "                                             content  \\\n",
       "0  当然算不上杰作，但放豆瓣语境下，是部时至今日终于拍出来的国产“高分韩国电影”。拿现实题材拍商...   \n",
       "1  最大的病，其实是穷病。真的被感动了，整体都很成熟，也有些许韩片的影子。几个演员表演都非常出色...   \n",
       "\n",
       "                                   processed_comment  star  \\\n",
       "0  [算不上, 杰作, 但放, 豆瓣, 语境, 时至今日, 终于, 国产, 高分, 韩国, 电影...     4   \n",
       "1  [最大, 其实, 穷病, 真的, 感动, 整体, 成熟, 些许, 韩片, 影子, 几个, 演...     4   \n",
       "\n",
       "                                            word_vec  pos1neg0  seq_length  \n",
       "0  [[0.192524, -0.185849, 0.275798, 0.053039, 0.5...         1          27  \n",
       "1  [[-0.026906, 0.003273, 0.084483, 0.253033, 0.0...         1          30  "
      ]
     },
     "execution_count": 3,
     "metadata": {},
     "output_type": "execute_result"
    }
   ],
   "source": [
    "word_vectors=np.load('sample_Tencent_AILab_ChineseEmbedding.npy',allow_pickle=True).item()\n",
    "#转换词向量\n",
    "def convert_to_vec(words_list):\n",
    "    words_vec=[]\n",
    "    for i in words_list:\n",
    "        if i in word_vectors:\n",
    "            words_vec.append(np.array(word_vectors[i]))\n",
    "    return np.array(words_vec)\n",
    "#获取每个评论词向量的数量\n",
    "def get_seq_length(data):\n",
    "    return len(data)\n",
    "# 转换评星\n",
    "def convert_stars(star):\n",
    "    if int(star)>3:\n",
    "        return 1\n",
    "    else:\n",
    "        return 0\n",
    "\n",
    "data['word_vec']=data.processed_comment.apply(convert_to_vec)\n",
    "data['pos1neg0']=data.star.apply(convert_stars)\n",
    "data['seq_length']=data.word_vec.apply(get_seq_length)\n",
    "data=data[[list(i)!=[] for i in data['word_vec']]]#删除词向量为[]的文本\n",
    "data.head(2)"
   ]
  },
  {
   "cell_type": "code",
   "execution_count": 4,
   "metadata": {},
   "outputs": [
    {
     "name": "stdout",
     "output_type": "stream",
     "text": [
      "平均每个评论有 17.11447859982942 个词\n",
      "平均每个评论有 16.523874734224655 个 wordvec\n"
     ]
    }
   ],
   "source": [
    "num2=np.mean(data[:].processed_comment.apply(lambda x:len(x)))\n",
    "num1=np.mean(data[:].word_vec.apply(lambda x:len(x)))\n",
    "\n",
    "print('平均每个评论有',num2,'个词')\n",
    "print('平均每个评论有',num1,'个 wordvec')"
   ]
  },
  {
   "cell_type": "code",
   "execution_count": 5,
   "metadata": {},
   "outputs": [],
   "source": [
    "#下采样\n",
    "negdata=data[~data['pos1neg0'].isin([1])]\n",
    "posdata=data[~data['pos1neg0'].isin([0])]\n",
    "xiacaiyangpos=posdata.sample(frac=0.25,replace=False)\n",
    "newdata=pd.concat( [negdata,xiacaiyangpos], axis=0 ) \n",
    "data=newdata"
   ]
  },
  {
   "cell_type": "code",
   "execution_count": 6,
   "metadata": {},
   "outputs": [],
   "source": [
    "from sklearn.feature_extraction.text import TfidfVectorizer\n",
    "tfidf=TfidfVectorizer()\n",
    "X=tfidf.fit_transform(data.processed_comment.apply(lambda x:' '.join(x)))\n",
    "y=data['pos1neg0']\n",
    "from sklearn.model_selection import train_test_split\n",
    "X_train,X_test,y_train,y_test=train_test_split(X,y,test_size=0.2)"
   ]
  },
  {
   "cell_type": "code",
   "execution_count": 7,
   "metadata": {},
   "outputs": [
    {
     "data": {
      "text/plain": [
       "<30485x64128 sparse matrix of type '<class 'numpy.float64'>'\n",
       "\twith 484952 stored elements in Compressed Sparse Row format>"
      ]
     },
     "execution_count": 7,
     "metadata": {},
     "output_type": "execute_result"
    }
   ],
   "source": [
    "X"
   ]
  },
  {
   "cell_type": "code",
   "execution_count": 8,
   "metadata": {},
   "outputs": [
    {
     "name": "stderr",
     "output_type": "stream",
     "text": [
      "D:\\Program\\anaconda3\\lib\\site-packages\\sklearn\\externals\\joblib\\__init__.py:15: DeprecationWarning: sklearn.externals.joblib is deprecated in 0.21 and will be removed in 0.23. Please import this functionality directly from joblib, which can be installed with: pip install joblib. If this warning is raised when loading pickled models, you may need to re-serialize those models with scikit-learn 0.21+.\n",
      "  warnings.warn(msg, category=DeprecationWarning)\n"
     ]
    }
   ],
   "source": [
    "#5 选择模型\n",
    "from sklearn.linear_model import LogisticRegression\n",
    "from sklearn.linear_model import SGDClassifier\n",
    "from sklearn.svm import SVC\n",
    "from sklearn.tree import DecisionTreeClassifier\n",
    "from sklearn.ensemble import RandomForestClassifier\n",
    "from sklearn.ensemble import GradientBoostingClassifier\n",
    "from sklearn.naive_bayes import GaussianNB\n",
    "# from xgboost import XGBClassifier\n",
    "# from lightgbm import LGBMClassifier\n",
    "\n",
    "from sklearn.model_selection import cross_validate\n",
    "from sklearn.model_selection import cross_val_score\n",
    "from sklearn.model_selection import cross_val_predict\n",
    "from sklearn.metrics import confusion_matrix\n",
    "from sklearn.metrics import f1_score\n",
    "from sklearn.metrics import roc_auc_score\n",
    "from sklearn.metrics import roc_curve\n",
    "\n",
    "import time\n",
    "from sklearn.externals import joblib\n",
    "import matplotlib.pyplot as plt\n",
    "plt.rcParams['font.sans-serif'] = ['SimHei'] # 步骤一（替换sans-serif字体）\n",
    "plt.rcParams['axes.unicode_minus'] = False   # 步骤二（解决坐标轴负数的负号显示问题）\n",
    "\n",
    "lr=LogisticRegression()\n",
    "by=GaussianNB()\n",
    "sgd=SGDClassifier()\n",
    "svc=SVC()\n",
    "tree=DecisionTreeClassifier()\n",
    "forest=RandomForestClassifier()\n",
    "# gb=GradientBoostingClassifier()\n",
    "# xgb=XGBClassifier()"
   ]
  },
  {
   "cell_type": "code",
   "execution_count": 9,
   "metadata": {},
   "outputs": [
    {
     "name": "stderr",
     "output_type": "stream",
     "text": [
      "D:\\Program\\anaconda3\\lib\\site-packages\\sklearn\\linear_model\\logistic.py:432: FutureWarning: Default solver will be changed to 'lbfgs' in 0.22. Specify a solver to silence this warning.\n",
      "  FutureWarning)\n"
     ]
    },
    {
     "data": {
      "image/png": "[encoded data removed]",
      "text/plain": [
       "<Figure size 432x288 with 1 Axes>"
      ]
     },
     "metadata": {
      "needs_background": "light"
     },
     "output_type": "display_data"
    },
    {
     "data": {
      "text/plain": [
       "0.8820029984867312"
      ]
     },
     "execution_count": 9,
     "metadata": {},
     "output_type": "execute_result"
    }
   ],
   "source": [
    "estimator=lr\n",
    "\n",
    "#画roc曲线\n",
    "y_train_score=cross_val_predict(estimator,X_train,y_train,cv=3,method='decision_function')\n",
    "fpr,tpr,thresholds=roc_curve(y_train,y_train_score)\n",
    "\n",
    "def plot_roc_curve(fpr,tpr,label=None):\n",
    "    plt.plot(fpr,tpr,linewidth=2,label=None)\n",
    "    plt.plot([0,1],[0,1],'k--')\n",
    "    plt.axis([0,1,0,1])\n",
    "    plt.xlabel('假正类率')\n",
    "    plt.ylabel('真正类率')\n",
    "plot_roc_curve(fpr,tpr)\n",
    "plt.show()\n",
    "roc_auc_score(y_train,y_train_score)"
   ]
  },
  {
   "cell_type": "code",
   "execution_count": 14,
   "metadata": {},
   "outputs": [
    {
     "name": "stderr",
     "output_type": "stream",
     "text": [
      "D:\\Program\\anaconda3\\lib\\site-packages\\sklearn\\linear_model\\logistic.py:432: FutureWarning: Default solver will be changed to 'lbfgs' in 0.22. Specify a solver to silence this warning.\n",
      "  FutureWarning)\n",
      "D:\\Program\\anaconda3\\lib\\site-packages\\sklearn\\linear_model\\logistic.py:432: FutureWarning: Default solver will be changed to 'lbfgs' in 0.22. Specify a solver to silence this warning.\n",
      "  FutureWarning)\n",
      "D:\\Program\\anaconda3\\lib\\site-packages\\sklearn\\linear_model\\logistic.py:432: FutureWarning: Default solver will be changed to 'lbfgs' in 0.22. Specify a solver to silence this warning.\n",
      "  FutureWarning)\n",
      "D:\\Program\\anaconda3\\lib\\site-packages\\sklearn\\linear_model\\logistic.py:432: FutureWarning: Default solver will be changed to 'lbfgs' in 0.22. Specify a solver to silence this warning.\n",
      "  FutureWarning)\n",
      "D:\\Program\\anaconda3\\lib\\site-packages\\sklearn\\linear_model\\logistic.py:432: FutureWarning: Default solver will be changed to 'lbfgs' in 0.22. Specify a solver to silence this warning.\n",
      "  FutureWarning)\n"
     ]
    },
    {
     "name": "stdout",
     "output_type": "stream",
     "text": [
      "训练用时： 1.607668161392212 s\n",
      "训练集ROC：   0.58  +- 训练集std：  0.0\n",
      "验证集ROC：   0.58  +- 验证集std：  0.0\n"
     ]
    }
   ],
   "source": [
    "estimator=LogisticRegression(C=0.01)\n",
    "\n",
    "#交叉验证求roc score\n",
    "cross_val=cross_validate(estimator,X_train[0:1000].toarray(),y_train[0:1000],scoring='accuracy',cv=5,return_train_score=True)\n",
    "fit_time=cross_val['fit_time']\n",
    "train_scores=cross_val['train_score']\n",
    "test_scores=cross_val['test_score']\n",
    "print('训练用时：',fit_time.sum(),'s')\n",
    "print('训练集ROC：  ',train_scores.mean(),' +-','训练集std： ',train_scores.std())\n",
    "print('验证集ROC：  ',test_scores.mean(),' +-','验证集std： ',test_scores.std())"
   ]
  },
  {
   "cell_type": "code",
   "execution_count": 15,
   "metadata": {},
   "outputs": [
    {
     "name": "stdout",
     "output_type": "stream",
     "text": [
      "训练集: \n",
      " [[ 8618  1775]\n",
      " [  632 13363]]\n",
      "测试集: \n",
      " [[1697  807]\n",
      " [ 373 3220]]\n"
     ]
    },
    {
     "name": "stderr",
     "output_type": "stream",
     "text": [
      "D:\\Program\\anaconda3\\lib\\site-packages\\sklearn\\linear_model\\logistic.py:432: FutureWarning: Default solver will be changed to 'lbfgs' in 0.22. Specify a solver to silence this warning.\n",
      "  FutureWarning)\n"
     ]
    }
   ],
   "source": [
    "estimator=lr\n",
    "\n",
    "#7 训练与保存模型\n",
    "estimator.fit(X_train,y_train)\n",
    "y_train_pre=estimator.predict(X_train)\n",
    "y_test_pre=estimator.predict(X_test)\n",
    "\n",
    "\n",
    "from sklearn.metrics import confusion_matrix\n",
    "print('训练集: \\n',confusion_matrix(y_train,y_train_pre))\n",
    "print('测试集: \\n',confusion_matrix(y_test,y_test_pre))"
   ]
  }
 ],
 "metadata": {
  "kernelspec": {
   "display_name": "Python 3",
   "language": "python",
   "name": "python3"
  },
  "language_info": {
   "codemirror_mode": {
    "name": "ipython",
    "version": 3
   },
   "file_extension": ".py",
   "mimetype": "text/x-python",
   "name": "python",
   "nbconvert_exporter": "python",
   "pygments_lexer": "ipython3",
   "version": "3.7.0"
  }
 },
 "nbformat": 4,
 "nbformat_minor": 2
}
